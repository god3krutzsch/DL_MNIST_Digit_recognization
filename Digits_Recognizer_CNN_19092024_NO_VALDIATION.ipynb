{
 "cells": [
  {
   "cell_type": "code",
   "id": "initial_id",
   "metadata": {
    "collapsed": true,
    "ExecuteTime": {
     "end_time": "2024-09-19T13:58:51.821876Z",
     "start_time": "2024-09-19T13:58:51.779808Z"
    }
   },
   "source": [
    "import pandas as pd\n",
    "import matplotlib.pyplot as plt\n",
    "import seaborn as sns\n",
    "import random\n",
    "import numpy as np\n",
    "from keras import Sequential\n",
    "from keras.src.legacy.preprocessing.image import ImageDataGenerator\n",
    "from tensorflow.keras.utils import to_categorical\n",
    "from tensorflow.keras.layers import Dense, Dropout, Flatten, Conv2D, MaxPooling2D, BatchNormalization\n",
    "from tensorflow.keras.preprocessing.image import ImageDataGenerator\n",
    "from tensorflow.keras.models import model_from_json"
   ],
   "outputs": [],
   "execution_count": 25
  },
  {
   "metadata": {},
   "cell_type": "markdown",
   "source": "1.0 Data acquisition",
   "id": "3c5edd5120466f8"
  },
  {
   "metadata": {
    "ExecuteTime": {
     "end_time": "2024-09-19T13:27:40.111285Z",
     "start_time": "2024-09-19T13:27:38.829296Z"
    }
   },
   "cell_type": "code",
   "source": [
    "training_data_path = '/Users/godfreykrutzsch/Desktop/digit-recognizer/train.csv'\n",
    "testing_data_path = '/Users/godfreykrutzsch/Desktop/digit-recognizer/test.csv'\n",
    "\n",
    "training_data = pd.read_csv(training_data_path)\n",
    "testing_data = pd.read_csv(testing_data_path)"
   ],
   "id": "14db7cb9bab39398",
   "outputs": [],
   "execution_count": 3
  },
  {
   "metadata": {
    "ExecuteTime": {
     "end_time": "2024-09-19T13:27:41.057518Z",
     "start_time": "2024-09-19T13:27:41.049168Z"
    }
   },
   "cell_type": "code",
   "source": [
    "print(training_data)\n",
    "print(training_data.shape)\n",
    "print(testing_data)"
   ],
   "id": "8f04dcd5b0c393a1",
   "outputs": [
    {
     "name": "stdout",
     "output_type": "stream",
     "text": [
      "       label  pixel0  pixel1  pixel2  pixel3  pixel4  pixel5  pixel6  pixel7  \\\n",
      "0          1       0       0       0       0       0       0       0       0   \n",
      "1          0       0       0       0       0       0       0       0       0   \n",
      "2          1       0       0       0       0       0       0       0       0   \n",
      "3          4       0       0       0       0       0       0       0       0   \n",
      "4          0       0       0       0       0       0       0       0       0   \n",
      "...      ...     ...     ...     ...     ...     ...     ...     ...     ...   \n",
      "41995      0       0       0       0       0       0       0       0       0   \n",
      "41996      1       0       0       0       0       0       0       0       0   \n",
      "41997      7       0       0       0       0       0       0       0       0   \n",
      "41998      6       0       0       0       0       0       0       0       0   \n",
      "41999      9       0       0       0       0       0       0       0       0   \n",
      "\n",
      "       pixel8  ...  pixel774  pixel775  pixel776  pixel777  pixel778  \\\n",
      "0           0  ...         0         0         0         0         0   \n",
      "1           0  ...         0         0         0         0         0   \n",
      "2           0  ...         0         0         0         0         0   \n",
      "3           0  ...         0         0         0         0         0   \n",
      "4           0  ...         0         0         0         0         0   \n",
      "...       ...  ...       ...       ...       ...       ...       ...   \n",
      "41995       0  ...         0         0         0         0         0   \n",
      "41996       0  ...         0         0         0         0         0   \n",
      "41997       0  ...         0         0         0         0         0   \n",
      "41998       0  ...         0         0         0         0         0   \n",
      "41999       0  ...         0         0         0         0         0   \n",
      "\n",
      "       pixel779  pixel780  pixel781  pixel782  pixel783  \n",
      "0             0         0         0         0         0  \n",
      "1             0         0         0         0         0  \n",
      "2             0         0         0         0         0  \n",
      "3             0         0         0         0         0  \n",
      "4             0         0         0         0         0  \n",
      "...         ...       ...       ...       ...       ...  \n",
      "41995         0         0         0         0         0  \n",
      "41996         0         0         0         0         0  \n",
      "41997         0         0         0         0         0  \n",
      "41998         0         0         0         0         0  \n",
      "41999         0         0         0         0         0  \n",
      "\n",
      "[42000 rows x 785 columns]\n",
      "(42000, 785)\n",
      "       pixel0  pixel1  pixel2  pixel3  pixel4  pixel5  pixel6  pixel7  pixel8  \\\n",
      "0           0       0       0       0       0       0       0       0       0   \n",
      "1           0       0       0       0       0       0       0       0       0   \n",
      "2           0       0       0       0       0       0       0       0       0   \n",
      "3           0       0       0       0       0       0       0       0       0   \n",
      "4           0       0       0       0       0       0       0       0       0   \n",
      "...       ...     ...     ...     ...     ...     ...     ...     ...     ...   \n",
      "27995       0       0       0       0       0       0       0       0       0   \n",
      "27996       0       0       0       0       0       0       0       0       0   \n",
      "27997       0       0       0       0       0       0       0       0       0   \n",
      "27998       0       0       0       0       0       0       0       0       0   \n",
      "27999       0       0       0       0       0       0       0       0       0   \n",
      "\n",
      "       pixel9  ...  pixel774  pixel775  pixel776  pixel777  pixel778  \\\n",
      "0           0  ...         0         0         0         0         0   \n",
      "1           0  ...         0         0         0         0         0   \n",
      "2           0  ...         0         0         0         0         0   \n",
      "3           0  ...         0         0         0         0         0   \n",
      "4           0  ...         0         0         0         0         0   \n",
      "...       ...  ...       ...       ...       ...       ...       ...   \n",
      "27995       0  ...         0         0         0         0         0   \n",
      "27996       0  ...         0         0         0         0         0   \n",
      "27997       0  ...         0         0         0         0         0   \n",
      "27998       0  ...         0         0         0         0         0   \n",
      "27999       0  ...         0         0         0         0         0   \n",
      "\n",
      "       pixel779  pixel780  pixel781  pixel782  pixel783  \n",
      "0             0         0         0         0         0  \n",
      "1             0         0         0         0         0  \n",
      "2             0         0         0         0         0  \n",
      "3             0         0         0         0         0  \n",
      "4             0         0         0         0         0  \n",
      "...         ...       ...       ...       ...       ...  \n",
      "27995         0         0         0         0         0  \n",
      "27996         0         0         0         0         0  \n",
      "27997         0         0         0         0         0  \n",
      "27998         0         0         0         0         0  \n",
      "27999         0         0         0         0         0  \n",
      "\n",
      "[28000 rows x 784 columns]\n"
     ]
    }
   ],
   "execution_count": 4
  },
  {
   "metadata": {},
   "cell_type": "markdown",
   "source": "2.0 Sample Images",
   "id": "d0697aacba7df198"
  },
  {
   "metadata": {
    "ExecuteTime": {
     "end_time": "2024-09-19T13:27:42.998851Z",
     "start_time": "2024-09-19T13:27:42.608485Z"
    }
   },
   "cell_type": "code",
   "source": [
    "fig, ax = plt.subplots(2, 3, figsize=(10, 10))\n",
    "\n",
    "# Loop over each subplot and display a random image\n",
    "for i in range(2):  # Loop over the rows of subplots\n",
    "    for j in range(3):  # Loop over the columns of subplots\n",
    "        random_index = random.randint(0, training_data.shape[0] - 1)  # Random index\n",
    "        \n",
    "        # Get the flattened image (first 784 columns) and reshape it to 28x28\n",
    "        random_image = training_data.iloc[random_index, :-1].values.reshape(28, 28)  # Exclude the label column\n",
    "        \n",
    "        ax[i, j].imshow(random_image, cmap='gray')  # Display the reshaped image\n",
    "        ax[i, j].axis('off')  # Hide the axis for better visualization\n",
    "\n",
    "plt.tight_layout()  # Adjust layout to prevent overlap\n",
    "plt.show()"
   ],
   "id": "77b5f5f76b03a4c3",
   "outputs": [
    {
     "data": {
      "text/plain": [
       "<Figure size 1000x1000 with 6 Axes>"
      ],
      "image/png": "[encoded data removed]"
     },
     "metadata": {},
     "output_type": "display_data"
    }
   ],
   "execution_count": 5
  },
  {
   "metadata": {},
   "cell_type": "markdown",
   "source": [
    "3.0 Dataset Exploration\n",
    "\n",
    "3.1 Training data"
   ],
   "id": "bfb3ebfe4e0084d3"
  },
  {
   "metadata": {
    "ExecuteTime": {
     "end_time": "2024-09-19T13:27:44.122100Z",
     "start_time": "2024-09-19T13:27:44.114924Z"
    }
   },
   "cell_type": "code",
   "source": "print(f\"Total rows: {training_data.shape[0]}\")",
   "id": "71eb626193b841d9",
   "outputs": [
    {
     "name": "stdout",
     "output_type": "stream",
     "text": [
      "Total rows: 42000\n"
     ]
    }
   ],
   "execution_count": 6
  },
  {
   "metadata": {
    "ExecuteTime": {
     "end_time": "2024-09-19T13:27:44.611449Z",
     "start_time": "2024-09-19T13:27:44.608998Z"
    }
   },
   "cell_type": "code",
   "source": "print(f\" Features: {len(training_data.columns)}\")",
   "id": "ae4df41f33c3ec68",
   "outputs": [
    {
     "name": "stdout",
     "output_type": "stream",
     "text": [
      " Features: 785\n"
     ]
    }
   ],
   "execution_count": 7
  },
  {
   "metadata": {
    "ExecuteTime": {
     "end_time": "2024-09-19T13:27:45.214131Z",
     "start_time": "2024-09-19T13:27:45.168300Z"
    }
   },
   "cell_type": "code",
   "source": "print(f\" information: {training_data.info()}\")",
   "id": "1b5e3f185991d08c",
   "outputs": [
    {
     "name": "stdout",
     "output_type": "stream",
     "text": [
      "<class 'pandas.core.frame.DataFrame'>\n",
      "RangeIndex: 42000 entries, 0 to 41999\n",
      "Columns: 785 entries, label to pixel783\n",
      "dtypes: int64(785)\n",
      "memory usage: 251.5 MB\n",
      " information: None\n"
     ]
    }
   ],
   "execution_count": 8
  },
  {
   "metadata": {},
   "cell_type": "markdown",
   "source": "3.2 Testing data",
   "id": "de7f3c77c2186a46"
  },
  {
   "metadata": {
    "ExecuteTime": {
     "end_time": "2024-09-19T13:27:45.901322Z",
     "start_time": "2024-09-19T13:27:45.891935Z"
    }
   },
   "cell_type": "code",
   "source": "print(f\" Total rows: {testing_data.shape[0]}\")",
   "id": "7fb63b8b90b30deb",
   "outputs": [
    {
     "name": "stdout",
     "output_type": "stream",
     "text": [
      " Total rows: 28000\n"
     ]
    }
   ],
   "execution_count": 9
  },
  {
   "metadata": {
    "ExecuteTime": {
     "end_time": "2024-09-19T13:27:46.333313Z",
     "start_time": "2024-09-19T13:27:46.329597Z"
    }
   },
   "cell_type": "code",
   "source": "print(f\" features: {len(testing_data.columns)}\")",
   "id": "4876963917808a40",
   "outputs": [
    {
     "name": "stdout",
     "output_type": "stream",
     "text": [
      " features: 784\n"
     ]
    }
   ],
   "execution_count": 10
  },
  {
   "metadata": {
    "ExecuteTime": {
     "end_time": "2024-09-19T13:27:46.710952Z",
     "start_time": "2024-09-19T13:27:46.699065Z"
    }
   },
   "cell_type": "code",
   "source": "print(f\" information: {testing_data.info()}\")",
   "id": "8a0bd7667a17afe4",
   "outputs": [
    {
     "name": "stdout",
     "output_type": "stream",
     "text": [
      "<class 'pandas.core.frame.DataFrame'>\n",
      "RangeIndex: 28000 entries, 0 to 27999\n",
      "Columns: 784 entries, pixel0 to pixel783\n",
      "dtypes: int64(784)\n",
      "memory usage: 167.5 MB\n",
      " information: None\n"
     ]
    }
   ],
   "execution_count": 11
  },
  {
   "metadata": {
    "ExecuteTime": {
     "end_time": "2024-09-19T13:27:47.351478Z",
     "start_time": "2024-09-19T13:27:47.348378Z"
    }
   },
   "cell_type": "code",
   "source": [
    "print(training_data.columns)\n",
    "print(training_data.shape)"
   ],
   "id": "8c0dcb34e7c6050d",
   "outputs": [
    {
     "name": "stdout",
     "output_type": "stream",
     "text": [
      "Index(['label', 'pixel0', 'pixel1', 'pixel2', 'pixel3', 'pixel4', 'pixel5',\n",
      "       'pixel6', 'pixel7', 'pixel8',\n",
      "       ...\n",
      "       'pixel774', 'pixel775', 'pixel776', 'pixel777', 'pixel778', 'pixel779',\n",
      "       'pixel780', 'pixel781', 'pixel782', 'pixel783'],\n",
      "      dtype='object', length=785)\n",
      "(42000, 785)\n"
     ]
    }
   ],
   "execution_count": 12
  },
  {
   "metadata": {},
   "cell_type": "markdown",
   "source": "4.0 Dependent Features",
   "id": "32344e741aafedcb"
  },
  {
   "metadata": {
    "ExecuteTime": {
     "end_time": "2024-09-19T13:27:49.476811Z",
     "start_time": "2024-09-19T13:27:48.404517Z"
    }
   },
   "cell_type": "code",
   "source": [
    "plt.figure(figsize=(10, 10))\n",
    "sns.countplot(training_data, x='label',hue='label')\n",
    "plt.title(\"Labels distribution\", size=16)\n",
    "plt.xlabel(\"Digit\")\n",
    "plt.ylabel(\"Count\")\n",
    "plt.show()\n"
   ],
   "id": "72427c96a1e02b57",
   "outputs": [
    {
     "ename": "AttributeError",
     "evalue": "'numpy.int64' object has no attribute 'startswith'",
     "output_type": "error",
     "traceback": [
      "\u001B[0;31m---------------------------------------------------------------------------\u001B[0m",
      "\u001B[0;31mAttributeError\u001B[0m                            Traceback (most recent call last)",
      "Cell \u001B[0;32mIn[13], line 2\u001B[0m\n\u001B[1;32m      1\u001B[0m plt\u001B[38;5;241m.\u001B[39mfigure(figsize\u001B[38;5;241m=\u001B[39m(\u001B[38;5;241m10\u001B[39m, \u001B[38;5;241m10\u001B[39m))\n\u001B[0;32m----> 2\u001B[0m sns\u001B[38;5;241m.\u001B[39mcountplot(training_data, x\u001B[38;5;241m=\u001B[39m\u001B[38;5;124m'\u001B[39m\u001B[38;5;124mlabel\u001B[39m\u001B[38;5;124m'\u001B[39m,hue\u001B[38;5;241m=\u001B[39m\u001B[38;5;124m'\u001B[39m\u001B[38;5;124mlabel\u001B[39m\u001B[38;5;124m'\u001B[39m)\n\u001B[1;32m      3\u001B[0m plt\u001B[38;5;241m.\u001B[39mtitle(\u001B[38;5;124m\"\u001B[39m\u001B[38;5;124mLabels distribution\u001B[39m\u001B[38;5;124m\"\u001B[39m, size\u001B[38;5;241m=\u001B[39m\u001B[38;5;241m16\u001B[39m)\n\u001B[1;32m      4\u001B[0m plt\u001B[38;5;241m.\u001B[39mxlabel(\u001B[38;5;124m\"\u001B[39m\u001B[38;5;124mDigit\u001B[39m\u001B[38;5;124m\"\u001B[39m)\n",
      "File \u001B[0;32m/opt/anaconda3/lib/python3.11/site-packages/seaborn/categorical.py:2955\u001B[0m, in \u001B[0;36mcountplot\u001B[0;34m(data, x, y, hue, order, hue_order, orient, color, palette, saturation, width, dodge, ax, **kwargs)\u001B[0m\n\u001B[1;32m   2952\u001B[0m \u001B[38;5;28;01mif\u001B[39;00m ax \u001B[38;5;129;01mis\u001B[39;00m \u001B[38;5;28;01mNone\u001B[39;00m:\n\u001B[1;32m   2953\u001B[0m     ax \u001B[38;5;241m=\u001B[39m plt\u001B[38;5;241m.\u001B[39mgca()\n\u001B[0;32m-> 2955\u001B[0m plotter\u001B[38;5;241m.\u001B[39mplot(ax, kwargs)\n\u001B[1;32m   2956\u001B[0m \u001B[38;5;28;01mreturn\u001B[39;00m ax\n",
      "File \u001B[0;32m/opt/anaconda3/lib/python3.11/site-packages/seaborn/categorical.py:1587\u001B[0m, in \u001B[0;36m_BarPlotter.plot\u001B[0;34m(self, ax, bar_kws)\u001B[0m\n\u001B[1;32m   1585\u001B[0m \u001B[38;5;250m\u001B[39m\u001B[38;5;124;03m\"\"\"Make the plot.\"\"\"\u001B[39;00m\n\u001B[1;32m   1586\u001B[0m \u001B[38;5;28mself\u001B[39m\u001B[38;5;241m.\u001B[39mdraw_bars(ax, bar_kws)\n\u001B[0;32m-> 1587\u001B[0m \u001B[38;5;28mself\u001B[39m\u001B[38;5;241m.\u001B[39mannotate_axes(ax)\n\u001B[1;32m   1588\u001B[0m \u001B[38;5;28;01mif\u001B[39;00m \u001B[38;5;28mself\u001B[39m\u001B[38;5;241m.\u001B[39morient \u001B[38;5;241m==\u001B[39m \u001B[38;5;124m\"\u001B[39m\u001B[38;5;124mh\u001B[39m\u001B[38;5;124m\"\u001B[39m:\n\u001B[1;32m   1589\u001B[0m     ax\u001B[38;5;241m.\u001B[39minvert_yaxis()\n",
      "File \u001B[0;32m/opt/anaconda3/lib/python3.11/site-packages/seaborn/categorical.py:767\u001B[0m, in \u001B[0;36m_CategoricalPlotter.annotate_axes\u001B[0;34m(self, ax)\u001B[0m\n\u001B[1;32m    764\u001B[0m     ax\u001B[38;5;241m.\u001B[39mset_ylim(\u001B[38;5;241m-\u001B[39m\u001B[38;5;241m.5\u001B[39m, \u001B[38;5;28mlen\u001B[39m(\u001B[38;5;28mself\u001B[39m\u001B[38;5;241m.\u001B[39mplot_data) \u001B[38;5;241m-\u001B[39m \u001B[38;5;241m.5\u001B[39m, auto\u001B[38;5;241m=\u001B[39m\u001B[38;5;28;01mNone\u001B[39;00m)\n\u001B[1;32m    766\u001B[0m \u001B[38;5;28;01mif\u001B[39;00m \u001B[38;5;28mself\u001B[39m\u001B[38;5;241m.\u001B[39mhue_names \u001B[38;5;129;01mis\u001B[39;00m \u001B[38;5;129;01mnot\u001B[39;00m \u001B[38;5;28;01mNone\u001B[39;00m:\n\u001B[0;32m--> 767\u001B[0m     ax\u001B[38;5;241m.\u001B[39mlegend(loc\u001B[38;5;241m=\u001B[39m\u001B[38;5;124m\"\u001B[39m\u001B[38;5;124mbest\u001B[39m\u001B[38;5;124m\"\u001B[39m, title\u001B[38;5;241m=\u001B[39m\u001B[38;5;28mself\u001B[39m\u001B[38;5;241m.\u001B[39mhue_title)\n",
      "File \u001B[0;32m/opt/anaconda3/lib/python3.11/site-packages/matplotlib/axes/_axes.py:322\u001B[0m, in \u001B[0;36mAxes.legend\u001B[0;34m(self, *args, **kwargs)\u001B[0m\n\u001B[1;32m    204\u001B[0m \u001B[38;5;129m@_docstring\u001B[39m\u001B[38;5;241m.\u001B[39mdedent_interpd\n\u001B[1;32m    205\u001B[0m \u001B[38;5;28;01mdef\u001B[39;00m \u001B[38;5;21mlegend\u001B[39m(\u001B[38;5;28mself\u001B[39m, \u001B[38;5;241m*\u001B[39margs, \u001B[38;5;241m*\u001B[39m\u001B[38;5;241m*\u001B[39mkwargs):\n\u001B[1;32m    206\u001B[0m \u001B[38;5;250m    \u001B[39m\u001B[38;5;124;03m\"\"\"\u001B[39;00m\n\u001B[1;32m    207\u001B[0m \u001B[38;5;124;03m    Place a legend on the Axes.\u001B[39;00m\n\u001B[1;32m    208\u001B[0m \n\u001B[0;32m   (...)\u001B[0m\n\u001B[1;32m    320\u001B[0m \u001B[38;5;124;03m    .. plot:: gallery/text_labels_and_annotations/legend.py\u001B[39;00m\n\u001B[1;32m    321\u001B[0m \u001B[38;5;124;03m    \"\"\"\u001B[39;00m\n\u001B[0;32m--> 322\u001B[0m     handles, labels, kwargs \u001B[38;5;241m=\u001B[39m mlegend\u001B[38;5;241m.\u001B[39m_parse_legend_args([\u001B[38;5;28mself\u001B[39m], \u001B[38;5;241m*\u001B[39margs, \u001B[38;5;241m*\u001B[39m\u001B[38;5;241m*\u001B[39mkwargs)\n\u001B[1;32m    323\u001B[0m     \u001B[38;5;28mself\u001B[39m\u001B[38;5;241m.\u001B[39mlegend_ \u001B[38;5;241m=\u001B[39m mlegend\u001B[38;5;241m.\u001B[39mLegend(\u001B[38;5;28mself\u001B[39m, handles, labels, \u001B[38;5;241m*\u001B[39m\u001B[38;5;241m*\u001B[39mkwargs)\n\u001B[1;32m    324\u001B[0m     \u001B[38;5;28mself\u001B[39m\u001B[38;5;241m.\u001B[39mlegend_\u001B[38;5;241m.\u001B[39m_remove_method \u001B[38;5;241m=\u001B[39m \u001B[38;5;28mself\u001B[39m\u001B[38;5;241m.\u001B[39m_remove_legend\n",
      "File \u001B[0;32m/opt/anaconda3/lib/python3.11/site-packages/matplotlib/legend.py:1361\u001B[0m, in \u001B[0;36m_parse_legend_args\u001B[0;34m(axs, handles, labels, *args, **kwargs)\u001B[0m\n\u001B[1;32m   1357\u001B[0m     handles \u001B[38;5;241m=\u001B[39m [handle \u001B[38;5;28;01mfor\u001B[39;00m handle, label\n\u001B[1;32m   1358\u001B[0m                \u001B[38;5;129;01min\u001B[39;00m \u001B[38;5;28mzip\u001B[39m(_get_legend_handles(axs, handlers), labels)]\n\u001B[1;32m   1360\u001B[0m \u001B[38;5;28;01melif\u001B[39;00m \u001B[38;5;28mlen\u001B[39m(args) \u001B[38;5;241m==\u001B[39m \u001B[38;5;241m0\u001B[39m:  \u001B[38;5;66;03m# 0 args: automatically detect labels and handles.\u001B[39;00m\n\u001B[0;32m-> 1361\u001B[0m     handles, labels \u001B[38;5;241m=\u001B[39m _get_legend_handles_labels(axs, handlers)\n\u001B[1;32m   1362\u001B[0m     \u001B[38;5;28;01mif\u001B[39;00m \u001B[38;5;129;01mnot\u001B[39;00m handles:\n\u001B[1;32m   1363\u001B[0m         log\u001B[38;5;241m.\u001B[39mwarning(\n\u001B[1;32m   1364\u001B[0m             \u001B[38;5;124m\"\u001B[39m\u001B[38;5;124mNo artists with labels found to put in legend.  Note that \u001B[39m\u001B[38;5;124m\"\u001B[39m\n\u001B[1;32m   1365\u001B[0m             \u001B[38;5;124m\"\u001B[39m\u001B[38;5;124martists whose label start with an underscore are ignored \u001B[39m\u001B[38;5;124m\"\u001B[39m\n\u001B[1;32m   1366\u001B[0m             \u001B[38;5;124m\"\u001B[39m\u001B[38;5;124mwhen legend() is called with no argument.\u001B[39m\u001B[38;5;124m\"\u001B[39m)\n",
      "File \u001B[0;32m/opt/anaconda3/lib/python3.11/site-packages/matplotlib/legend.py:1291\u001B[0m, in \u001B[0;36m_get_legend_handles_labels\u001B[0;34m(axs, legend_handler_map)\u001B[0m\n\u001B[1;32m   1289\u001B[0m \u001B[38;5;28;01mfor\u001B[39;00m handle \u001B[38;5;129;01min\u001B[39;00m _get_legend_handles(axs, legend_handler_map):\n\u001B[1;32m   1290\u001B[0m     label \u001B[38;5;241m=\u001B[39m handle\u001B[38;5;241m.\u001B[39mget_label()\n\u001B[0;32m-> 1291\u001B[0m     \u001B[38;5;28;01mif\u001B[39;00m label \u001B[38;5;129;01mand\u001B[39;00m \u001B[38;5;129;01mnot\u001B[39;00m label\u001B[38;5;241m.\u001B[39mstartswith(\u001B[38;5;124m'\u001B[39m\u001B[38;5;124m_\u001B[39m\u001B[38;5;124m'\u001B[39m):\n\u001B[1;32m   1292\u001B[0m         handles\u001B[38;5;241m.\u001B[39mappend(handle)\n\u001B[1;32m   1293\u001B[0m         labels\u001B[38;5;241m.\u001B[39mappend(label)\n",
      "\u001B[0;31mAttributeError\u001B[0m: 'numpy.int64' object has no attribute 'startswith'"
     ]
    },
    {
     "data": {
      "text/plain": [
       "<Figure size 1000x1000 with 1 Axes>"
      ],
      "image/png": "[encoded data removed]"
     },
     "metadata": {},
     "output_type": "display_data"
    }
   ],
   "execution_count": 13
  },
  {
   "metadata": {},
   "cell_type": "markdown",
   "source": [
    "5.0 Data processing for machine learning pipeline image classification for CNNs\n",
    "\n",
    "5.1 Split data into dependent and independent features"
   ],
   "id": "1eeeffade473cf48"
  },
  {
   "metadata": {
    "ExecuteTime": {
     "end_time": "2024-09-19T13:27:50.891826Z",
     "start_time": "2024-09-19T13:27:50.737994Z"
    }
   },
   "cell_type": "code",
   "source": [
    "# split the target variable from the other features\n",
    "X = training_data.drop(columns=['label']).values # variables\n",
    "Y = training_data['label'].values # target or dependent variable \n",
    "print(len(Y))\n",
    "print(len(X))"
   ],
   "id": "1de94312f53c6125",
   "outputs": [
    {
     "name": "stdout",
     "output_type": "stream",
     "text": [
      "42000\n",
      "42000\n"
     ]
    }
   ],
   "execution_count": 14
  },
  {
   "metadata": {},
   "cell_type": "markdown",
   "source": "5.2 Reshape the data",
   "id": "6a7fdad0c21242fb"
  },
  {
   "metadata": {
    "ExecuteTime": {
     "end_time": "2024-09-19T13:27:52.063314Z",
     "start_time": "2024-09-19T13:27:52.046377Z"
    }
   },
   "cell_type": "code",
   "source": [
    "# reshape the flattened  784 back to their original 2D form (28x 28 pixels per image) and add 1 for grayscale (with other images its RGB 3) but the MNIST spec.\n",
    "# we must reshape if we intend to use a CNN E.G. They expect 4 dimensions samples, height, width, channel the -1 works this out automatically.\n",
    "X_train = np.reshape(X, (-1, 28, 28, 1))"
   ],
   "id": "571fa29a9395f9c5",
   "outputs": [],
   "execution_count": 15
  },
  {
   "metadata": {
    "ExecuteTime": {
     "end_time": "2024-09-19T13:27:52.645701Z",
     "start_time": "2024-09-19T13:27:52.643832Z"
    }
   },
   "cell_type": "code",
   "source": "print(X_train.shape)",
   "id": "17fca102a5df7ea2",
   "outputs": [
    {
     "name": "stdout",
     "output_type": "stream",
     "text": [
      "(42000, 28, 28, 1)\n"
     ]
    }
   ],
   "execution_count": 16
  },
  {
   "metadata": {},
   "cell_type": "markdown",
   "source": "5.3 Normalizing Data",
   "id": "b590f19ffeffca0c"
  },
  {
   "metadata": {
    "ExecuteTime": {
     "end_time": "2024-09-19T13:27:54.277561Z",
     "start_time": "2024-09-19T13:27:54.125418Z"
    }
   },
   "cell_type": "code",
   "source": [
    "# this converts the pixel values from the range of [0,255] black 0 and white 255 to [0,1]. This is important for faster and more stable training of neural networks and ensure it is floating type (float32)\n",
    "X_train = X_train.astype(\"float32\") / 255."
   ],
   "id": "317649a1bed76dd",
   "outputs": [],
   "execution_count": 17
  },
  {
   "metadata": {},
   "cell_type": "markdown",
   "source": "5.4 Performing One-hot encoding",
   "id": "3bbfabfc75b94a5a"
  },
  {
   "metadata": {
    "ExecuteTime": {
     "end_time": "2024-09-19T13:27:55.284624Z",
     "start_time": "2024-09-19T13:27:55.278456Z"
    }
   },
   "cell_type": "code",
   "source": [
    "# one hot encode labels that correspond to each image in X_train\n",
    "# convert class labels e.g. 10 class labels, a label of 2 would become [0,0,1,0,0,0,0,0,0,0]\n",
    "# to_cat() is used in classification problems where the output layer of the model needs a one hon encoded target\n",
    "# each label corresponds to each image in X_train\n",
    "\n",
    "#the labels must be a 1d array of integers where  each integer corresponds to a class\n",
    "y_train = to_categorical(Y)  # one hot encode training labels\n",
    "print(y_train.shape)"
   ],
   "id": "45899464da83ed17",
   "outputs": [
    {
     "name": "stdout",
     "output_type": "stream",
     "text": [
      "(42000, 10)\n"
     ]
    }
   ],
   "execution_count": 18
  },
  {
   "metadata": {},
   "cell_type": "markdown",
   "source": "6.0 Data Augmentation",
   "id": "d18322bec5f76cb5"
  },
  {
   "metadata": {
    "ExecuteTime": {
     "end_time": "2024-09-19T13:27:57.314047Z",
     "start_time": "2024-09-19T13:27:57.311443Z"
    }
   },
   "cell_type": "code",
   "source": [
    "training_datagen = ImageDataGenerator(\n",
    "    rescale=1./255,\n",
    "    horizontal_flip=True,\n",
    "    vertical_flip=True,\n",
    "    zoom_range=0.3,\n",
    "    height_shift_range=0.3,\n",
    "    width_shift_range=0.3,\n",
    "    rotation_range=45,\n",
    ")"
   ],
   "id": "fe2a2b54310df8ca",
   "outputs": [],
   "execution_count": 19
  },
  {
   "metadata": {},
   "cell_type": "markdown",
   "source": "7.0 infrastructure CNN",
   "id": "4863db6d9ea79b4f"
  },
  {
   "metadata": {},
   "cell_type": "markdown",
   "source": "For MNIST pre-trained models are not required because MNIST consist of small grayscale images 28x28 of handwritten digits as just about all pre-trained models like REsnet or inception are designed with RGB images (3 channels) typically on large scale datasets like ImageNet. You would  have to expan MNIST to 3 channels RGB which would not improve performance. MNIST images are small where as pre-trained models expect large input sizes (e.g. 224 x224 for Resnet). Therefore a small custom CNN is usually effective.",
   "id": "7ce46ec14492d3c6"
  },
  {
   "metadata": {
    "ExecuteTime": {
     "end_time": "2024-09-19T14:51:28.557010Z",
     "start_time": "2024-09-19T14:51:28.363651Z"
    }
   },
   "cell_type": "code",
   "source": [
    "baseline_model = Sequential([\n",
    "\n",
    "# first block\n",
    "Conv2D(32, kernel_size=(3,3), activation='relu', input_shape=(28, 28, 1)),\n",
    "BatchNormalization(),\n",
    "Conv2D(32, kernel_size=(3,3), activation='relu', padding='same'),\n",
    "# this stops vanishing gradients (like ResNet) and allows higher learning rates\n",
    "# for simple networks  which an easy to classify like MNIST you might not need it# BatchNormalization() to keep\n",
    "# it simple, but batch norm reduces overfitting e.g a straight accuracy val line\n",
    "BatchNormalization(),\n",
    "MaxPooling2D(pool_size=(2, 2), strides=(2,2)), # reduces the size of feature map and number of parameters\n",
    "Dropout(0.25),\n",
    "                   \n",
    "#second block\n",
    "Conv2D(64, kernel_size=(3,3), activation='relu', padding='same'),\n",
    "BatchNormalization(),\n",
    "Conv2D(64, kernel_size=(3,3), activation='relu', padding='same'),\n",
    "BatchNormalization(),\n",
    "MaxPooling2D(pool_size=(2, 2), strides=(2,2)),\n",
    "Dropout(0.25),\n",
    "    \n",
    "# fully connected \n",
    "Flatten(),\n",
    "# GlobalAveragePooling2D(),\n",
    "Dense(512, activation='relu'),\n",
    "Dropout(0.25),\n",
    "Dense(256, activation='relu'),\n",
    "Dropout(0.5),\n",
    "\n",
    "\n",
    "# output layer n.b. MNIST has 10 classes not one e.g. sigmoid\n",
    "Dense(10, activation='softmax')\n",
    "])\n",
    "\n",
    "baseline_model.summary()"
   ],
   "id": "fb0b70a0b2ce0ed9",
   "outputs": [
    {
     "name": "stderr",
     "output_type": "stream",
     "text": [
      "/opt/anaconda3/lib/python3.11/site-packages/keras/src/layers/convolutional/base_conv.py:107: UserWarning: Do not pass an `input_shape`/`input_dim` argument to a layer. When using Sequential models, prefer using an `Input(shape)` object as the first layer in the model instead.\n",
      "  super().__init__(activity_regularizer=activity_regularizer, **kwargs)\n"
     ]
    },
    {
     "data": {
      "text/plain": [
       "\u001B[1mModel: \"sequential_16\"\u001B[0m\n"
      ],
      "text/html": [
       "<pre style=\"white-space:pre;overflow-x:auto;line-height:normal;font-family:Menlo,'DejaVu Sans Mono',consolas,'Courier New',monospace\"><span style=\"font-weight: bold\">Model: \"sequential_16\"</span>\n",
       "</pre>\n"
      ]
     },
     "metadata": {},
     "output_type": "display_data"
    },
    {
     "data": {
      "text/plain": [
       "┏━━━━━━━━━━━━━━━━━━━━━━━━━━━━━━━━━┳━━━━━━━━━━━━━━━━━━━━━━━━┳━━━━━━━━━━━━━━━┓\n",
       "┃\u001B[1m \u001B[0m\u001B[1mLayer (type)                   \u001B[0m\u001B[1m \u001B[0m┃\u001B[1m \u001B[0m\u001B[1mOutput Shape          \u001B[0m\u001B[1m \u001B[0m┃\u001B[1m \u001B[0m\u001B[1m      Param #\u001B[0m\u001B[1m \u001B[0m┃\n",
       "┡━━━━━━━━━━━━━━━━━━━━━━━━━━━━━━━━━╇━━━━━━━━━━━━━━━━━━━━━━━━╇━━━━━━━━━━━━━━━┩\n",
       "│ conv2d_64 (\u001B[38;5;33mConv2D\u001B[0m)              │ (\u001B[38;5;45mNone\u001B[0m, \u001B[38;5;34m26\u001B[0m, \u001B[38;5;34m26\u001B[0m, \u001B[38;5;34m32\u001B[0m)     │           \u001B[38;5;34m320\u001B[0m │\n",
       "├─────────────────────────────────┼────────────────────────┼───────────────┤\n",
       "│ batch_normalization_64          │ (\u001B[38;5;45mNone\u001B[0m, \u001B[38;5;34m26\u001B[0m, \u001B[38;5;34m26\u001B[0m, \u001B[38;5;34m32\u001B[0m)     │           \u001B[38;5;34m128\u001B[0m │\n",
       "│ (\u001B[38;5;33mBatchNormalization\u001B[0m)            │                        │               │\n",
       "├─────────────────────────────────┼────────────────────────┼───────────────┤\n",
       "│ conv2d_65 (\u001B[38;5;33mConv2D\u001B[0m)              │ (\u001B[38;5;45mNone\u001B[0m, \u001B[38;5;34m26\u001B[0m, \u001B[38;5;34m26\u001B[0m, \u001B[38;5;34m32\u001B[0m)     │         \u001B[38;5;34m9,248\u001B[0m │\n",
       "├─────────────────────────────────┼────────────────────────┼───────────────┤\n",
       "│ batch_normalization_65          │ (\u001B[38;5;45mNone\u001B[0m, \u001B[38;5;34m26\u001B[0m, \u001B[38;5;34m26\u001B[0m, \u001B[38;5;34m32\u001B[0m)     │           \u001B[38;5;34m128\u001B[0m │\n",
       "│ (\u001B[38;5;33mBatchNormalization\u001B[0m)            │                        │               │\n",
       "├─────────────────────────────────┼────────────────────────┼───────────────┤\n",
       "│ max_pooling2d_32 (\u001B[38;5;33mMaxPooling2D\u001B[0m) │ (\u001B[38;5;45mNone\u001B[0m, \u001B[38;5;34m13\u001B[0m, \u001B[38;5;34m13\u001B[0m, \u001B[38;5;34m32\u001B[0m)     │             \u001B[38;5;34m0\u001B[0m │\n",
       "├─────────────────────────────────┼────────────────────────┼───────────────┤\n",
       "│ dropout_64 (\u001B[38;5;33mDropout\u001B[0m)            │ (\u001B[38;5;45mNone\u001B[0m, \u001B[38;5;34m13\u001B[0m, \u001B[38;5;34m13\u001B[0m, \u001B[38;5;34m32\u001B[0m)     │             \u001B[38;5;34m0\u001B[0m │\n",
       "├─────────────────────────────────┼────────────────────────┼───────────────┤\n",
       "│ conv2d_66 (\u001B[38;5;33mConv2D\u001B[0m)              │ (\u001B[38;5;45mNone\u001B[0m, \u001B[38;5;34m13\u001B[0m, \u001B[38;5;34m13\u001B[0m, \u001B[38;5;34m64\u001B[0m)     │        \u001B[38;5;34m18,496\u001B[0m │\n",
       "├─────────────────────────────────┼────────────────────────┼───────────────┤\n",
       "│ batch_normalization_66          │ (\u001B[38;5;45mNone\u001B[0m, \u001B[38;5;34m13\u001B[0m, \u001B[38;5;34m13\u001B[0m, \u001B[38;5;34m64\u001B[0m)     │           \u001B[38;5;34m256\u001B[0m │\n",
       "│ (\u001B[38;5;33mBatchNormalization\u001B[0m)            │                        │               │\n",
       "├─────────────────────────────────┼────────────────────────┼───────────────┤\n",
       "│ conv2d_67 (\u001B[38;5;33mConv2D\u001B[0m)              │ (\u001B[38;5;45mNone\u001B[0m, \u001B[38;5;34m13\u001B[0m, \u001B[38;5;34m13\u001B[0m, \u001B[38;5;34m64\u001B[0m)     │        \u001B[38;5;34m36,928\u001B[0m │\n",
       "├─────────────────────────────────┼────────────────────────┼───────────────┤\n",
       "│ batch_normalization_67          │ (\u001B[38;5;45mNone\u001B[0m, \u001B[38;5;34m13\u001B[0m, \u001B[38;5;34m13\u001B[0m, \u001B[38;5;34m64\u001B[0m)     │           \u001B[38;5;34m256\u001B[0m │\n",
       "│ (\u001B[38;5;33mBatchNormalization\u001B[0m)            │                        │               │\n",
       "├─────────────────────────────────┼────────────────────────┼───────────────┤\n",
       "│ max_pooling2d_33 (\u001B[38;5;33mMaxPooling2D\u001B[0m) │ (\u001B[38;5;45mNone\u001B[0m, \u001B[38;5;34m6\u001B[0m, \u001B[38;5;34m6\u001B[0m, \u001B[38;5;34m64\u001B[0m)       │             \u001B[38;5;34m0\u001B[0m │\n",
       "├─────────────────────────────────┼────────────────────────┼───────────────┤\n",
       "│ dropout_65 (\u001B[38;5;33mDropout\u001B[0m)            │ (\u001B[38;5;45mNone\u001B[0m, \u001B[38;5;34m6\u001B[0m, \u001B[38;5;34m6\u001B[0m, \u001B[38;5;34m64\u001B[0m)       │             \u001B[38;5;34m0\u001B[0m │\n",
       "├─────────────────────────────────┼────────────────────────┼───────────────┤\n",
       "│ flatten_16 (\u001B[38;5;33mFlatten\u001B[0m)            │ (\u001B[38;5;45mNone\u001B[0m, \u001B[38;5;34m2304\u001B[0m)           │             \u001B[38;5;34m0\u001B[0m │\n",
       "├─────────────────────────────────┼────────────────────────┼───────────────┤\n",
       "│ dense_48 (\u001B[38;5;33mDense\u001B[0m)                │ (\u001B[38;5;45mNone\u001B[0m, \u001B[38;5;34m512\u001B[0m)            │     \u001B[38;5;34m1,180,160\u001B[0m │\n",
       "├─────────────────────────────────┼────────────────────────┼───────────────┤\n",
       "│ dropout_66 (\u001B[38;5;33mDropout\u001B[0m)            │ (\u001B[38;5;45mNone\u001B[0m, \u001B[38;5;34m512\u001B[0m)            │             \u001B[38;5;34m0\u001B[0m │\n",
       "├─────────────────────────────────┼────────────────────────┼───────────────┤\n",
       "│ dense_49 (\u001B[38;5;33mDense\u001B[0m)                │ (\u001B[38;5;45mNone\u001B[0m, \u001B[38;5;34m256\u001B[0m)            │       \u001B[38;5;34m131,328\u001B[0m │\n",
       "├─────────────────────────────────┼────────────────────────┼───────────────┤\n",
       "│ dropout_67 (\u001B[38;5;33mDropout\u001B[0m)            │ (\u001B[38;5;45mNone\u001B[0m, \u001B[38;5;34m256\u001B[0m)            │             \u001B[38;5;34m0\u001B[0m │\n",
       "├─────────────────────────────────┼────────────────────────┼───────────────┤\n",
       "│ dense_50 (\u001B[38;5;33mDense\u001B[0m)                │ (\u001B[38;5;45mNone\u001B[0m, \u001B[38;5;34m10\u001B[0m)             │         \u001B[38;5;34m2,570\u001B[0m │\n",
       "└─────────────────────────────────┴────────────────────────┴───────────────┘\n"
      ],
      "text/html": [
       "<pre style=\"white-space:pre;overflow-x:auto;line-height:normal;font-family:Menlo,'DejaVu Sans Mono',consolas,'Courier New',monospace\">┏━━━━━━━━━━━━━━━━━━━━━━━━━━━━━━━━━┳━━━━━━━━━━━━━━━━━━━━━━━━┳━━━━━━━━━━━━━━━┓\n",
       "┃<span style=\"font-weight: bold\"> Layer (type)                    </span>┃<span style=\"font-weight: bold\"> Output Shape           </span>┃<span style=\"font-weight: bold\">       Param # </span>┃\n",
       "┡━━━━━━━━━━━━━━━━━━━━━━━━━━━━━━━━━╇━━━━━━━━━━━━━━━━━━━━━━━━╇━━━━━━━━━━━━━━━┩\n",
       "│ conv2d_64 (<span style=\"color: #0087ff; text-decoration-color: #0087ff\">Conv2D</span>)              │ (<span style=\"color: #00d7ff; text-decoration-color: #00d7ff\">None</span>, <span style=\"color: #00af00; text-decoration-color: #00af00\">26</span>, <span style=\"color: #00af00; text-decoration-color: #00af00\">26</span>, <span style=\"color: #00af00; text-decoration-color: #00af00\">32</span>)     │           <span style=\"color: #00af00; text-decoration-color: #00af00\">320</span> │\n",
       "├─────────────────────────────────┼────────────────────────┼───────────────┤\n",
       "│ batch_normalization_64          │ (<span style=\"color: #00d7ff; text-decoration-color: #00d7ff\">None</span>, <span style=\"color: #00af00; text-decoration-color: #00af00\">26</span>, <span style=\"color: #00af00; text-decoration-color: #00af00\">26</span>, <span style=\"color: #00af00; text-decoration-color: #00af00\">32</span>)     │           <span style=\"color: #00af00; text-decoration-color: #00af00\">128</span> │\n",
       "│ (<span style=\"color: #0087ff; text-decoration-color: #0087ff\">BatchNormalization</span>)            │                        │               │\n",
       "├─────────────────────────────────┼────────────────────────┼───────────────┤\n",
       "│ conv2d_65 (<span style=\"color: #0087ff; text-decoration-color: #0087ff\">Conv2D</span>)              │ (<span style=\"color: #00d7ff; text-decoration-color: #00d7ff\">None</span>, <span style=\"color: #00af00; text-decoration-color: #00af00\">26</span>, <span style=\"color: #00af00; text-decoration-color: #00af00\">26</span>, <span style=\"color: #00af00; text-decoration-color: #00af00\">32</span>)     │         <span style=\"color: #00af00; text-decoration-color: #00af00\">9,248</span> │\n",
       "├─────────────────────────────────┼────────────────────────┼───────────────┤\n",
       "│ batch_normalization_65          │ (<span style=\"color: #00d7ff; text-decoration-color: #00d7ff\">None</span>, <span style=\"color: #00af00; text-decoration-color: #00af00\">26</span>, <span style=\"color: #00af00; text-decoration-color: #00af00\">26</span>, <span style=\"color: #00af00; text-decoration-color: #00af00\">32</span>)     │           <span style=\"color: #00af00; text-decoration-color: #00af00\">128</span> │\n",
       "│ (<span style=\"color: #0087ff; text-decoration-color: #0087ff\">BatchNormalization</span>)            │                        │               │\n",
       "├─────────────────────────────────┼────────────────────────┼───────────────┤\n",
       "│ max_pooling2d_32 (<span style=\"color: #0087ff; text-decoration-color: #0087ff\">MaxPooling2D</span>) │ (<span style=\"color: #00d7ff; text-decoration-color: #00d7ff\">None</span>, <span style=\"color: #00af00; text-decoration-color: #00af00\">13</span>, <span style=\"color: #00af00; text-decoration-color: #00af00\">13</span>, <span style=\"color: #00af00; text-decoration-color: #00af00\">32</span>)     │             <span style=\"color: #00af00; text-decoration-color: #00af00\">0</span> │\n",
       "├─────────────────────────────────┼────────────────────────┼───────────────┤\n",
       "│ dropout_64 (<span style=\"color: #0087ff; text-decoration-color: #0087ff\">Dropout</span>)            │ (<span style=\"color: #00d7ff; text-decoration-color: #00d7ff\">None</span>, <span style=\"color: #00af00; text-decoration-color: #00af00\">13</span>, <span style=\"color: #00af00; text-decoration-color: #00af00\">13</span>, <span style=\"color: #00af00; text-decoration-color: #00af00\">32</span>)     │             <span style=\"color: #00af00; text-decoration-color: #00af00\">0</span> │\n",
       "├─────────────────────────────────┼────────────────────────┼───────────────┤\n",
       "│ conv2d_66 (<span style=\"color: #0087ff; text-decoration-color: #0087ff\">Conv2D</span>)              │ (<span style=\"color: #00d7ff; text-decoration-color: #00d7ff\">None</span>, <span style=\"color: #00af00; text-decoration-color: #00af00\">13</span>, <span style=\"color: #00af00; text-decoration-color: #00af00\">13</span>, <span style=\"color: #00af00; text-decoration-color: #00af00\">64</span>)     │        <span style=\"color: #00af00; text-decoration-color: #00af00\">18,496</span> │\n",
       "├─────────────────────────────────┼────────────────────────┼───────────────┤\n",
       "│ batch_normalization_66          │ (<span style=\"color: #00d7ff; text-decoration-color: #00d7ff\">None</span>, <span style=\"color: #00af00; text-decoration-color: #00af00\">13</span>, <span style=\"color: #00af00; text-decoration-color: #00af00\">13</span>, <span style=\"color: #00af00; text-decoration-color: #00af00\">64</span>)     │           <span style=\"color: #00af00; text-decoration-color: #00af00\">256</span> │\n",
       "│ (<span style=\"color: #0087ff; text-decoration-color: #0087ff\">BatchNormalization</span>)            │                        │               │\n",
       "├─────────────────────────────────┼────────────────────────┼───────────────┤\n",
       "│ conv2d_67 (<span style=\"color: #0087ff; text-decoration-color: #0087ff\">Conv2D</span>)              │ (<span style=\"color: #00d7ff; text-decoration-color: #00d7ff\">None</span>, <span style=\"color: #00af00; text-decoration-color: #00af00\">13</span>, <span style=\"color: #00af00; text-decoration-color: #00af00\">13</span>, <span style=\"color: #00af00; text-decoration-color: #00af00\">64</span>)     │        <span style=\"color: #00af00; text-decoration-color: #00af00\">36,928</span> │\n",
       "├─────────────────────────────────┼────────────────────────┼───────────────┤\n",
       "│ batch_normalization_67          │ (<span style=\"color: #00d7ff; text-decoration-color: #00d7ff\">None</span>, <span style=\"color: #00af00; text-decoration-color: #00af00\">13</span>, <span style=\"color: #00af00; text-decoration-color: #00af00\">13</span>, <span style=\"color: #00af00; text-decoration-color: #00af00\">64</span>)     │           <span style=\"color: #00af00; text-decoration-color: #00af00\">256</span> │\n",
       "│ (<span style=\"color: #0087ff; text-decoration-color: #0087ff\">BatchNormalization</span>)            │                        │               │\n",
       "├─────────────────────────────────┼────────────────────────┼───────────────┤\n",
       "│ max_pooling2d_33 (<span style=\"color: #0087ff; text-decoration-color: #0087ff\">MaxPooling2D</span>) │ (<span style=\"color: #00d7ff; text-decoration-color: #00d7ff\">None</span>, <span style=\"color: #00af00; text-decoration-color: #00af00\">6</span>, <span style=\"color: #00af00; text-decoration-color: #00af00\">6</span>, <span style=\"color: #00af00; text-decoration-color: #00af00\">64</span>)       │             <span style=\"color: #00af00; text-decoration-color: #00af00\">0</span> │\n",
       "├─────────────────────────────────┼────────────────────────┼───────────────┤\n",
       "│ dropout_65 (<span style=\"color: #0087ff; text-decoration-color: #0087ff\">Dropout</span>)            │ (<span style=\"color: #00d7ff; text-decoration-color: #00d7ff\">None</span>, <span style=\"color: #00af00; text-decoration-color: #00af00\">6</span>, <span style=\"color: #00af00; text-decoration-color: #00af00\">6</span>, <span style=\"color: #00af00; text-decoration-color: #00af00\">64</span>)       │             <span style=\"color: #00af00; text-decoration-color: #00af00\">0</span> │\n",
       "├─────────────────────────────────┼────────────────────────┼───────────────┤\n",
       "│ flatten_16 (<span style=\"color: #0087ff; text-decoration-color: #0087ff\">Flatten</span>)            │ (<span style=\"color: #00d7ff; text-decoration-color: #00d7ff\">None</span>, <span style=\"color: #00af00; text-decoration-color: #00af00\">2304</span>)           │             <span style=\"color: #00af00; text-decoration-color: #00af00\">0</span> │\n",
       "├─────────────────────────────────┼────────────────────────┼───────────────┤\n",
       "│ dense_48 (<span style=\"color: #0087ff; text-decoration-color: #0087ff\">Dense</span>)                │ (<span style=\"color: #00d7ff; text-decoration-color: #00d7ff\">None</span>, <span style=\"color: #00af00; text-decoration-color: #00af00\">512</span>)            │     <span style=\"color: #00af00; text-decoration-color: #00af00\">1,180,160</span> │\n",
       "├─────────────────────────────────┼────────────────────────┼───────────────┤\n",
       "│ dropout_66 (<span style=\"color: #0087ff; text-decoration-color: #0087ff\">Dropout</span>)            │ (<span style=\"color: #00d7ff; text-decoration-color: #00d7ff\">None</span>, <span style=\"color: #00af00; text-decoration-color: #00af00\">512</span>)            │             <span style=\"color: #00af00; text-decoration-color: #00af00\">0</span> │\n",
       "├─────────────────────────────────┼────────────────────────┼───────────────┤\n",
       "│ dense_49 (<span style=\"color: #0087ff; text-decoration-color: #0087ff\">Dense</span>)                │ (<span style=\"color: #00d7ff; text-decoration-color: #00d7ff\">None</span>, <span style=\"color: #00af00; text-decoration-color: #00af00\">256</span>)            │       <span style=\"color: #00af00; text-decoration-color: #00af00\">131,328</span> │\n",
       "├─────────────────────────────────┼────────────────────────┼───────────────┤\n",
       "│ dropout_67 (<span style=\"color: #0087ff; text-decoration-color: #0087ff\">Dropout</span>)            │ (<span style=\"color: #00d7ff; text-decoration-color: #00d7ff\">None</span>, <span style=\"color: #00af00; text-decoration-color: #00af00\">256</span>)            │             <span style=\"color: #00af00; text-decoration-color: #00af00\">0</span> │\n",
       "├─────────────────────────────────┼────────────────────────┼───────────────┤\n",
       "│ dense_50 (<span style=\"color: #0087ff; text-decoration-color: #0087ff\">Dense</span>)                │ (<span style=\"color: #00d7ff; text-decoration-color: #00d7ff\">None</span>, <span style=\"color: #00af00; text-decoration-color: #00af00\">10</span>)             │         <span style=\"color: #00af00; text-decoration-color: #00af00\">2,570</span> │\n",
       "└─────────────────────────────────┴────────────────────────┴───────────────┘\n",
       "</pre>\n"
      ]
     },
     "metadata": {},
     "output_type": "display_data"
    },
    {
     "data": {
      "text/plain": [
       "\u001B[1m Total params: \u001B[0m\u001B[38;5;34m1,379,818\u001B[0m (5.26 MB)\n"
      ],
      "text/html": [
       "<pre style=\"white-space:pre;overflow-x:auto;line-height:normal;font-family:Menlo,'DejaVu Sans Mono',consolas,'Courier New',monospace\"><span style=\"font-weight: bold\"> Total params: </span><span style=\"color: #00af00; text-decoration-color: #00af00\">1,379,818</span> (5.26 MB)\n",
       "</pre>\n"
      ]
     },
     "metadata": {},
     "output_type": "display_data"
    },
    {
     "data": {
      "text/plain": [
       "\u001B[1m Trainable params: \u001B[0m\u001B[38;5;34m1,379,434\u001B[0m (5.26 MB)\n"
      ],
      "text/html": [
       "<pre style=\"white-space:pre;overflow-x:auto;line-height:normal;font-family:Menlo,'DejaVu Sans Mono',consolas,'Courier New',monospace\"><span style=\"font-weight: bold\"> Trainable params: </span><span style=\"color: #00af00; text-decoration-color: #00af00\">1,379,434</span> (5.26 MB)\n",
       "</pre>\n"
      ]
     },
     "metadata": {},
     "output_type": "display_data"
    },
    {
     "data": {
      "text/plain": [
       "\u001B[1m Non-trainable params: \u001B[0m\u001B[38;5;34m384\u001B[0m (1.50 KB)\n"
      ],
      "text/html": [
       "<pre style=\"white-space:pre;overflow-x:auto;line-height:normal;font-family:Menlo,'DejaVu Sans Mono',consolas,'Courier New',monospace\"><span style=\"font-weight: bold\"> Non-trainable params: </span><span style=\"color: #00af00; text-decoration-color: #00af00\">384</span> (1.50 KB)\n",
       "</pre>\n"
      ]
     },
     "metadata": {},
     "output_type": "display_data"
    }
   ],
   "execution_count": 59
  },
  {
   "metadata": {},
   "cell_type": "markdown",
   "source": "8.0 Compile Model",
   "id": "b0dc5db579104047"
  },
  {
   "metadata": {
    "ExecuteTime": {
     "end_time": "2024-09-19T13:28:01.888514Z",
     "start_time": "2024-09-19T13:28:01.854548Z"
    }
   },
   "cell_type": "code",
   "source": [
    "baseline_model.compile(\n",
    "    loss='categorical_crossentropy', \n",
    "    optimizer='adam', \n",
    "    metrics=['accuracy'])"
   ],
   "id": "140f80313facbf98",
   "outputs": [],
   "execution_count": 21
  },
  {
   "metadata": {},
   "cell_type": "markdown",
   "source": "9.0 Train model",
   "id": "36ae59bc9e37274e"
  },
  {
   "metadata": {
    "ExecuteTime": {
     "end_time": "2024-09-19T14:34:50.640676Z",
     "start_time": "2024-09-19T14:17:23.894217Z"
    }
   },
   "cell_type": "code",
   "source": [
    "history = baseline_model.fit(\n",
    "    training_datagen.flow(X_train, y_train, batch_size=32),\n",
    "    epochs=30,\n",
    "    verbose=2,\n",
    ")"
   ],
   "id": "3eecf75701554058",
   "outputs": [
    {
     "name": "stdout",
     "output_type": "stream",
     "text": [
      "Epoch 1/30\n"
     ]
    },
    {
     "name": "stderr",
     "output_type": "stream",
     "text": [
      "/opt/anaconda3/lib/python3.11/site-packages/keras/src/trainers/data_adapters/py_dataset_adapter.py:122: UserWarning: Your `PyDataset` class should call `super().__init__(**kwargs)` in its constructor. `**kwargs` can include `workers`, `use_multiprocessing`, `max_queue_size`. Do not pass these arguments to `fit()`, as they will be ignored.\n",
      "  self._warn_if_super_not_called()\n"
     ]
    },
    {
     "name": "stdout",
     "output_type": "stream",
     "text": [
      "1313/1313 - 35s - 27ms/step - accuracy: 0.2492 - loss: 2.0459\n",
      "Epoch 2/30\n",
      "1313/1313 - 34s - 26ms/step - accuracy: 0.4070 - loss: 1.6519\n",
      "Epoch 3/30\n",
      "1313/1313 - 34s - 26ms/step - accuracy: 0.5099 - loss: 1.3639\n",
      "Epoch 4/30\n",
      "1313/1313 - 34s - 26ms/step - accuracy: 0.5724 - loss: 1.1981\n",
      "Epoch 5/30\n",
      "1313/1313 - 35s - 26ms/step - accuracy: 0.6133 - loss: 1.0867\n",
      "Epoch 6/30\n",
      "1313/1313 - 34s - 26ms/step - accuracy: 0.6580 - loss: 0.9897\n",
      "Epoch 7/30\n",
      "1313/1313 - 34s - 26ms/step - accuracy: 0.6975 - loss: 0.9002\n",
      "Epoch 8/30\n",
      "1313/1313 - 33s - 25ms/step - accuracy: 0.7206 - loss: 0.8422\n",
      "Epoch 9/30\n",
      "1313/1313 - 34s - 26ms/step - accuracy: 0.7405 - loss: 0.7882\n",
      "Epoch 10/30\n",
      "1313/1313 - 34s - 26ms/step - accuracy: 0.7539 - loss: 0.7542\n",
      "Epoch 11/30\n",
      "1313/1313 - 34s - 26ms/step - accuracy: 0.7652 - loss: 0.7227\n",
      "Epoch 12/30\n",
      "1313/1313 - 34s - 26ms/step - accuracy: 0.7758 - loss: 0.6891\n",
      "Epoch 13/30\n",
      "1313/1313 - 34s - 26ms/step - accuracy: 0.7835 - loss: 0.6697\n",
      "Epoch 14/30\n",
      "1313/1313 - 38s - 29ms/step - accuracy: 0.7865 - loss: 0.6523\n",
      "Epoch 15/30\n",
      "1313/1313 - 42s - 32ms/step - accuracy: 0.7965 - loss: 0.6393\n",
      "Epoch 16/30\n",
      "1313/1313 - 35s - 27ms/step - accuracy: 0.8023 - loss: 0.6185\n",
      "Epoch 17/30\n",
      "1313/1313 - 36s - 27ms/step - accuracy: 0.8063 - loss: 0.6063\n",
      "Epoch 18/30\n",
      "1313/1313 - 34s - 26ms/step - accuracy: 0.8101 - loss: 0.5856\n",
      "Epoch 19/30\n",
      "1313/1313 - 36s - 27ms/step - accuracy: 0.8111 - loss: 0.5777\n",
      "Epoch 20/30\n",
      "1313/1313 - 35s - 27ms/step - accuracy: 0.8152 - loss: 0.5740\n",
      "Epoch 21/30\n",
      "1313/1313 - 34s - 26ms/step - accuracy: 0.8177 - loss: 0.5646\n",
      "Epoch 22/30\n",
      "1313/1313 - 34s - 26ms/step - accuracy: 0.8252 - loss: 0.5451\n",
      "Epoch 23/30\n",
      "1313/1313 - 33s - 25ms/step - accuracy: 0.8270 - loss: 0.5433\n",
      "Epoch 24/30\n",
      "1313/1313 - 35s - 26ms/step - accuracy: 0.8275 - loss: 0.5373\n",
      "Epoch 25/30\n",
      "1313/1313 - 35s - 27ms/step - accuracy: 0.8299 - loss: 0.5327\n",
      "Epoch 26/30\n",
      "1313/1313 - 35s - 27ms/step - accuracy: 0.8309 - loss: 0.5294\n",
      "Epoch 27/30\n",
      "1313/1313 - 36s - 27ms/step - accuracy: 0.8315 - loss: 0.5261\n",
      "Epoch 28/30\n",
      "1313/1313 - 35s - 27ms/step - accuracy: 0.8342 - loss: 0.5165\n",
      "Epoch 29/30\n",
      "1313/1313 - 35s - 27ms/step - accuracy: 0.8322 - loss: 0.5188\n",
      "Epoch 30/30\n",
      "1313/1313 - 34s - 26ms/step - accuracy: 0.8347 - loss: 0.5165\n"
     ]
    }
   ],
   "execution_count": 49
  },
  {
   "metadata": {},
   "cell_type": "markdown",
   "source": "10. Analytics",
   "id": "2b9aa4d3d7a255ca"
  },
  {
   "metadata": {
    "ExecuteTime": {
     "end_time": "2024-09-19T14:41:15.850516Z",
     "start_time": "2024-09-19T14:41:15.619700Z"
    }
   },
   "cell_type": "code",
   "source": [
    "# access the accuracy and loss from history object\n",
    "acc = history.history['accuracy']\n",
    "loss = history.history['loss']\n",
    "\n",
    "\n",
    "#Generate the range of epochs\n",
    "epochs_range = range(1, len(acc)+1)\n",
    "\n",
    "# plot the accuracy\n",
    "plt.figure(figsize=(8,8))\n",
    "plt.subplot(1,2,1)\n",
    "plt.plot(epochs_range, acc, label='Training Accuracy', color='b')\n",
    "plt.xlabel(\"Epochs\")\n",
    "plt.ylabel(\"Accuracy\")\n",
    "plt.title(\"Training Accuracy over epoch\")\n",
    "plt.show()"
   ],
   "id": "752bf98407cdbb1f",
   "outputs": [
    {
     "data": {
      "text/plain": [
       "<Figure size 800x800 with 1 Axes>"
      ],
      "image/png": "[encoded data removed]"
     },
     "metadata": {},
     "output_type": "display_data"
    }
   ],
   "execution_count": 50
  },
  {
   "metadata": {
    "ExecuteTime": {
     "end_time": "2024-09-19T14:41:22.636441Z",
     "start_time": "2024-09-19T14:41:22.548430Z"
    }
   },
   "cell_type": "code",
   "source": [
    "# plot the loss\n",
    "plt.figure(figsize=(8,8))\n",
    "plt.subplot(1,2,1)\n",
    "plt.plot(epochs_range, loss, label='Training Loss', color='g')\n",
    "plt.xlabel(\"Epochs\")\n",
    "plt.ylabel(\"Loss\")\n",
    "plt.title(\"Training Accuracy over epoch\")\n",
    "plt.show()"
   ],
   "id": "c1b7c5b33eb2307e",
   "outputs": [
    {
     "data": {
      "text/plain": [
       "<Figure size 800x800 with 1 Axes>"
      ],
      "image/png": "[encoded data removed]"
     },
     "metadata": {},
     "output_type": "display_data"
    }
   ],
   "execution_count": 51
  },
  {
   "metadata": {},
   "cell_type": "markdown",
   "source": [
    "11. Testing \n",
    "\n",
    "11.1 Reshaping "
   ],
   "id": "a8799443f82f3ff3"
  },
  {
   "metadata": {
    "ExecuteTime": {
     "end_time": "2024-09-19T14:41:30.215965Z",
     "start_time": "2024-09-19T14:41:30.196958Z"
    }
   },
   "cell_type": "code",
   "source": "testing_data = np.reshape(testing_data,(-1, 28, 28, 1))",
   "id": "31a0c56ad6890d4c",
   "outputs": [],
   "execution_count": 52
  },
  {
   "metadata": {},
   "cell_type": "markdown",
   "source": "11.2 Normalizing",
   "id": "372a48c3aad3f0e2"
  },
  {
   "metadata": {
    "ExecuteTime": {
     "end_time": "2024-09-19T14:41:33.641106Z",
     "start_time": "2024-09-19T14:41:33.473417Z"
    }
   },
   "cell_type": "code",
   "source": "testing_data = testing_data.astype('float32') / 255.0",
   "id": "83cc513e3fab5831",
   "outputs": [],
   "execution_count": 53
  },
  {
   "metadata": {},
   "cell_type": "markdown",
   "source": "12. Prediction",
   "id": "5e3fab7cfda03c4"
  },
  {
   "metadata": {
    "ExecuteTime": {
     "end_time": "2024-09-19T14:43:36.271820Z",
     "start_time": "2024-09-19T14:43:29.777721Z"
    }
   },
   "cell_type": "code",
   "source": "prediction = new_model.predict(testing_data)",
   "id": "2022ece9d56eb810",
   "outputs": [
    {
     "name": "stdout",
     "output_type": "stream",
     "text": [
      "\u001B[1m875/875\u001B[0m \u001B[32m━━━━━━━━━━━━━━━━━━━━\u001B[0m\u001B[37m\u001B[0m \u001B[1m6s\u001B[0m 7ms/step\n"
     ]
    }
   ],
   "execution_count": 56
  },
  {
   "metadata": {},
   "cell_type": "markdown",
   "source": "12.0 Submission",
   "id": "24fed389c427b642"
  },
  {
   "metadata": {
    "ExecuteTime": {
     "end_time": "2024-09-19T14:43:43.379934Z",
     "start_time": "2024-09-19T14:43:43.343241Z"
    }
   },
   "cell_type": "code",
   "source": [
    "result = np.argmax(prediction, axis=1)\n",
    "result = pd.Series(result, name=\"Label\")\n",
    "\n",
    "submission = pd.concat([pd.Series(range(1,28001), name=\"ImageID\"), result], axis=1)\n",
    "submission.to_csv('/Users/godfreykrutzsch/Desktop/digit-recognizer/submission_revise_11.csv', index=False)"
   ],
   "id": "1a377f7b32654b7a",
   "outputs": [],
   "execution_count": 57
  },
  {
   "metadata": {},
   "cell_type": "code",
   "outputs": [],
   "execution_count": null,
   "source": "",
   "id": "d750932b7d0d05f8"
  }
 ],
 "metadata": {
  "kernelspec": {
   "display_name": "Python 3",
   "language": "python",
   "name": "python3"
  },
  "language_info": {
   "codemirror_mode": {
    "name": "ipython",
    "version": 2
   },
   "file_extension": ".py",
   "mimetype": "text/x-python",
   "name": "python",
   "nbconvert_exporter": "python",
   "pygments_lexer": "ipython2",
   "version": "2.7.6"
  }
 },
 "nbformat": 4,
 "nbformat_minor": 5
}
